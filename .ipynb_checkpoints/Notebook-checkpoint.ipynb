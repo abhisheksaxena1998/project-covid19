{
 "cells": [
  {
   "cell_type": "code",
   "execution_count": 35,
   "metadata": {},
   "outputs": [],
   "source": [
    "import pandas as pd\n",
    "import numpy as np\n",
    "import seaborn as sns\n",
    "import matplotlib.pyplot as plt\n",
    "\n",
    "sns.set_style(\"darkgrid\", {\"axes.facecolor\": \".8\"})"
   ]
  },
  {
   "cell_type": "code",
   "execution_count": null,
   "metadata": {},
   "outputs": [],
   "source": []
  },
  {
   "cell_type": "code",
   "execution_count": 74,
   "metadata": {},
   "outputs": [
    {
     "data": {
      "text/html": [
       "<div>\n",
       "<style scoped>\n",
       "    .dataframe tbody tr th:only-of-type {\n",
       "        vertical-align: middle;\n",
       "    }\n",
       "\n",
       "    .dataframe tbody tr th {\n",
       "        vertical-align: top;\n",
       "    }\n",
       "\n",
       "    .dataframe thead th {\n",
       "        text-align: right;\n",
       "    }\n",
       "</style>\n",
       "<table border=\"1\" class=\"dataframe\">\n",
       "  <thead>\n",
       "    <tr style=\"text-align: right;\">\n",
       "      <th></th>\n",
       "      <th>DateRep</th>\n",
       "      <th>Day</th>\n",
       "      <th>Month</th>\n",
       "      <th>Year</th>\n",
       "      <th>Cases</th>\n",
       "      <th>Deaths</th>\n",
       "      <th>Countries and territories</th>\n",
       "      <th>GeoId</th>\n",
       "      <th>Temperature</th>\n",
       "      <th>RH</th>\n",
       "      <th>...</th>\n",
       "      <th>CC</th>\n",
       "      <th>Sunshine Duration</th>\n",
       "      <th>Shortwave Radiation</th>\n",
       "      <th>Wind Speed [10 m]</th>\n",
       "      <th>Wind Direction [10 m]</th>\n",
       "      <th>Wind Gust</th>\n",
       "      <th>Longitude</th>\n",
       "      <th>Latitude</th>\n",
       "      <th>Confirmed</th>\n",
       "      <th>Ccases</th>\n",
       "    </tr>\n",
       "  </thead>\n",
       "  <tbody>\n",
       "    <tr>\n",
       "      <th>0</th>\n",
       "      <td>3/1/2020</td>\n",
       "      <td>1</td>\n",
       "      <td>3</td>\n",
       "      <td>2020</td>\n",
       "      <td>0</td>\n",
       "      <td>0</td>\n",
       "      <td>India</td>\n",
       "      <td>IN</td>\n",
       "      <td>19.7092</td>\n",
       "      <td>87</td>\n",
       "      <td>...</td>\n",
       "      <td>22</td>\n",
       "      <td>30.07660</td>\n",
       "      <td>14.24000</td>\n",
       "      <td>4.30382</td>\n",
       "      <td>68.19859</td>\n",
       "      <td>7.56</td>\n",
       "      <td>19.0760° N</td>\n",
       "      <td>72.8777° E</td>\n",
       "      <td>3</td>\n",
       "      <td>3</td>\n",
       "    </tr>\n",
       "    <tr>\n",
       "      <th>1</th>\n",
       "      <td>3/2/2020</td>\n",
       "      <td>2</td>\n",
       "      <td>3</td>\n",
       "      <td>2020</td>\n",
       "      <td>0</td>\n",
       "      <td>0</td>\n",
       "      <td>India</td>\n",
       "      <td>IN</td>\n",
       "      <td>23.0292</td>\n",
       "      <td>71</td>\n",
       "      <td>...</td>\n",
       "      <td>10</td>\n",
       "      <td>53.61702</td>\n",
       "      <td>214.48999</td>\n",
       "      <td>6.07486</td>\n",
       "      <td>52.12500</td>\n",
       "      <td>8.64</td>\n",
       "      <td>19.0760° N</td>\n",
       "      <td>72.8777° E</td>\n",
       "      <td>5</td>\n",
       "      <td>2</td>\n",
       "    </tr>\n",
       "    <tr>\n",
       "      <th>2</th>\n",
       "      <td>3/3/2020</td>\n",
       "      <td>3</td>\n",
       "      <td>3</td>\n",
       "      <td>2020</td>\n",
       "      <td>2</td>\n",
       "      <td>0</td>\n",
       "      <td>India</td>\n",
       "      <td>IN</td>\n",
       "      <td>25.0792</td>\n",
       "      <td>62</td>\n",
       "      <td>...</td>\n",
       "      <td>10</td>\n",
       "      <td>53.61702</td>\n",
       "      <td>386.25998</td>\n",
       "      <td>7.90719</td>\n",
       "      <td>32.61923</td>\n",
       "      <td>10.44</td>\n",
       "      <td>19.0760° N</td>\n",
       "      <td>72.8777° E</td>\n",
       "      <td>5</td>\n",
       "      <td>0</td>\n",
       "    </tr>\n",
       "    <tr>\n",
       "      <th>3</th>\n",
       "      <td>3/4/2020</td>\n",
       "      <td>4</td>\n",
       "      <td>3</td>\n",
       "      <td>2020</td>\n",
       "      <td>1</td>\n",
       "      <td>0</td>\n",
       "      <td>India</td>\n",
       "      <td>IN</td>\n",
       "      <td>27.1492</td>\n",
       "      <td>46</td>\n",
       "      <td>...</td>\n",
       "      <td>10</td>\n",
       "      <td>53.61702</td>\n",
       "      <td>622.11000</td>\n",
       "      <td>5.33466</td>\n",
       "      <td>2.86241</td>\n",
       "      <td>12.24</td>\n",
       "      <td>19.0760° N</td>\n",
       "      <td>72.8777° E</td>\n",
       "      <td>28</td>\n",
       "      <td>23</td>\n",
       "    </tr>\n",
       "    <tr>\n",
       "      <th>4</th>\n",
       "      <td>3/5/2020</td>\n",
       "      <td>5</td>\n",
       "      <td>3</td>\n",
       "      <td>2020</td>\n",
       "      <td>22</td>\n",
       "      <td>0</td>\n",
       "      <td>India</td>\n",
       "      <td>IN</td>\n",
       "      <td>30.0292</td>\n",
       "      <td>33</td>\n",
       "      <td>...</td>\n",
       "      <td>0</td>\n",
       "      <td>60.00000</td>\n",
       "      <td>924.70996</td>\n",
       "      <td>11.76994</td>\n",
       "      <td>264.80557</td>\n",
       "      <td>18.36</td>\n",
       "      <td>19.0760° N</td>\n",
       "      <td>72.8777° E</td>\n",
       "      <td>30</td>\n",
       "      <td>2</td>\n",
       "    </tr>\n",
       "    <tr>\n",
       "      <th>5</th>\n",
       "      <td>3/6/2020</td>\n",
       "      <td>6</td>\n",
       "      <td>3</td>\n",
       "      <td>2020</td>\n",
       "      <td>1</td>\n",
       "      <td>0</td>\n",
       "      <td>India</td>\n",
       "      <td>IN</td>\n",
       "      <td>29.3792</td>\n",
       "      <td>36</td>\n",
       "      <td>...</td>\n",
       "      <td>0</td>\n",
       "      <td>60.00000</td>\n",
       "      <td>881.10000</td>\n",
       "      <td>14.71242</td>\n",
       "      <td>264.80557</td>\n",
       "      <td>20.16</td>\n",
       "      <td>19.0760° N</td>\n",
       "      <td>72.8777° E</td>\n",
       "      <td>31</td>\n",
       "      <td>1</td>\n",
       "    </tr>\n",
       "    <tr>\n",
       "      <th>6</th>\n",
       "      <td>3/7/2020</td>\n",
       "      <td>7</td>\n",
       "      <td>3</td>\n",
       "      <td>2020</td>\n",
       "      <td>2</td>\n",
       "      <td>0</td>\n",
       "      <td>India</td>\n",
       "      <td>IN</td>\n",
       "      <td>28.5992</td>\n",
       "      <td>37</td>\n",
       "      <td>...</td>\n",
       "      <td>0</td>\n",
       "      <td>60.00000</td>\n",
       "      <td>774.30000</td>\n",
       "      <td>16.00397</td>\n",
       "      <td>267.13760</td>\n",
       "      <td>20.88</td>\n",
       "      <td>19.0760° N</td>\n",
       "      <td>72.8777° E</td>\n",
       "      <td>34</td>\n",
       "      <td>3</td>\n",
       "    </tr>\n",
       "    <tr>\n",
       "      <th>7</th>\n",
       "      <td>3/8/2020</td>\n",
       "      <td>8</td>\n",
       "      <td>3</td>\n",
       "      <td>2020</td>\n",
       "      <td>3</td>\n",
       "      <td>0</td>\n",
       "      <td>India</td>\n",
       "      <td>IN</td>\n",
       "      <td>27.8392</td>\n",
       "      <td>38</td>\n",
       "      <td>...</td>\n",
       "      <td>0</td>\n",
       "      <td>60.00000</td>\n",
       "      <td>606.98000</td>\n",
       "      <td>15.71760</td>\n",
       "      <td>270.00000</td>\n",
       "      <td>21.60</td>\n",
       "      <td>19.0760° N</td>\n",
       "      <td>72.8777° E</td>\n",
       "      <td>39</td>\n",
       "      <td>5</td>\n",
       "    </tr>\n",
       "    <tr>\n",
       "      <th>8</th>\n",
       "      <td>3/10/2020</td>\n",
       "      <td>10</td>\n",
       "      <td>3</td>\n",
       "      <td>2020</td>\n",
       "      <td>10</td>\n",
       "      <td>0</td>\n",
       "      <td>India</td>\n",
       "      <td>IN</td>\n",
       "      <td>26.7492</td>\n",
       "      <td>40</td>\n",
       "      <td>...</td>\n",
       "      <td>0</td>\n",
       "      <td>60.00000</td>\n",
       "      <td>394.27000</td>\n",
       "      <td>14.14180</td>\n",
       "      <td>273.23970</td>\n",
       "      <td>19.80</td>\n",
       "      <td>19.0760° N</td>\n",
       "      <td>72.8777° E</td>\n",
       "      <td>43</td>\n",
       "      <td>4</td>\n",
       "    </tr>\n",
       "    <tr>\n",
       "      <th>9</th>\n",
       "      <td>3/11/2020</td>\n",
       "      <td>11</td>\n",
       "      <td>3</td>\n",
       "      <td>2020</td>\n",
       "      <td>6</td>\n",
       "      <td>0</td>\n",
       "      <td>India</td>\n",
       "      <td>IN</td>\n",
       "      <td>24.7192</td>\n",
       "      <td>48</td>\n",
       "      <td>...</td>\n",
       "      <td>0</td>\n",
       "      <td>60.00000</td>\n",
       "      <td>157.53000</td>\n",
       "      <td>11.70342</td>\n",
       "      <td>281.82150</td>\n",
       "      <td>18.36</td>\n",
       "      <td>19.0760° N</td>\n",
       "      <td>72.8777° E</td>\n",
       "      <td>56</td>\n",
       "      <td>13</td>\n",
       "    </tr>\n",
       "    <tr>\n",
       "      <th>10</th>\n",
       "      <td>3/12/2020</td>\n",
       "      <td>12</td>\n",
       "      <td>3</td>\n",
       "      <td>2020</td>\n",
       "      <td>23</td>\n",
       "      <td>0</td>\n",
       "      <td>India</td>\n",
       "      <td>IN</td>\n",
       "      <td>21.9592</td>\n",
       "      <td>62</td>\n",
       "      <td>...</td>\n",
       "      <td>0</td>\n",
       "      <td>16.35000</td>\n",
       "      <td>3.56000</td>\n",
       "      <td>7.50189</td>\n",
       "      <td>286.50436</td>\n",
       "      <td>12.24</td>\n",
       "      <td>19.0760° N</td>\n",
       "      <td>72.8777° E</td>\n",
       "      <td>62</td>\n",
       "      <td>6</td>\n",
       "    </tr>\n",
       "    <tr>\n",
       "      <th>11</th>\n",
       "      <td>3/13/2020</td>\n",
       "      <td>13</td>\n",
       "      <td>3</td>\n",
       "      <td>2020</td>\n",
       "      <td>2</td>\n",
       "      <td>1</td>\n",
       "      <td>India</td>\n",
       "      <td>IN</td>\n",
       "      <td>28.9492</td>\n",
       "      <td>35</td>\n",
       "      <td>...</td>\n",
       "      <td>10</td>\n",
       "      <td>53.61702</td>\n",
       "      <td>749.38000</td>\n",
       "      <td>18.11520</td>\n",
       "      <td>270.00000</td>\n",
       "      <td>21.60</td>\n",
       "      <td>19.0760° N</td>\n",
       "      <td>72.8777° E</td>\n",
       "      <td>73</td>\n",
       "      <td>11</td>\n",
       "    </tr>\n",
       "    <tr>\n",
       "      <th>12</th>\n",
       "      <td>3/14/2020</td>\n",
       "      <td>14</td>\n",
       "      <td>3</td>\n",
       "      <td>2020</td>\n",
       "      <td>8</td>\n",
       "      <td>1</td>\n",
       "      <td>India</td>\n",
       "      <td>IN</td>\n",
       "      <td>27.6692</td>\n",
       "      <td>40</td>\n",
       "      <td>...</td>\n",
       "      <td>10</td>\n",
       "      <td>53.61702</td>\n",
       "      <td>477.03998</td>\n",
       "      <td>17.58240</td>\n",
       "      <td>270.00000</td>\n",
       "      <td>21.96</td>\n",
       "      <td>19.0760° N</td>\n",
       "      <td>72.8777° E</td>\n",
       "      <td>82</td>\n",
       "      <td>9</td>\n",
       "    </tr>\n",
       "    <tr>\n",
       "      <th>13</th>\n",
       "      <td>3/15/2020</td>\n",
       "      <td>15</td>\n",
       "      <td>3</td>\n",
       "      <td>2020</td>\n",
       "      <td>7</td>\n",
       "      <td>0</td>\n",
       "      <td>India</td>\n",
       "      <td>IN</td>\n",
       "      <td>22.6292</td>\n",
       "      <td>67</td>\n",
       "      <td>...</td>\n",
       "      <td>1</td>\n",
       "      <td>59.36170</td>\n",
       "      <td>236.73999</td>\n",
       "      <td>0.96052</td>\n",
       "      <td>33.69006</td>\n",
       "      <td>4.68</td>\n",
       "      <td>19.0760° N</td>\n",
       "      <td>72.8777° E</td>\n",
       "      <td>102</td>\n",
       "      <td>20</td>\n",
       "    </tr>\n",
       "    <tr>\n",
       "      <th>14</th>\n",
       "      <td>3/16/2020</td>\n",
       "      <td>16</td>\n",
       "      <td>3</td>\n",
       "      <td>2020</td>\n",
       "      <td>3</td>\n",
       "      <td>0</td>\n",
       "      <td>India</td>\n",
       "      <td>IN</td>\n",
       "      <td>25.1492</td>\n",
       "      <td>61</td>\n",
       "      <td>...</td>\n",
       "      <td>0</td>\n",
       "      <td>60.00000</td>\n",
       "      <td>459.24000</td>\n",
       "      <td>4.16130</td>\n",
       "      <td>320.19446</td>\n",
       "      <td>8.28</td>\n",
       "      <td>19.0760° N</td>\n",
       "      <td>72.8777° E</td>\n",
       "      <td>119</td>\n",
       "      <td>17</td>\n",
       "    </tr>\n",
       "    <tr>\n",
       "      <th>15</th>\n",
       "      <td>3/17/2020</td>\n",
       "      <td>17</td>\n",
       "      <td>3</td>\n",
       "      <td>2020</td>\n",
       "      <td>32</td>\n",
       "      <td>1</td>\n",
       "      <td>India</td>\n",
       "      <td>IN</td>\n",
       "      <td>27.6092</td>\n",
       "      <td>47</td>\n",
       "      <td>...</td>\n",
       "      <td>0</td>\n",
       "      <td>60.00000</td>\n",
       "      <td>655.04000</td>\n",
       "      <td>5.60074</td>\n",
       "      <td>295.34620</td>\n",
       "      <td>9.36</td>\n",
       "      <td>19.0760° N</td>\n",
       "      <td>72.8777° E</td>\n",
       "      <td>142</td>\n",
       "      <td>23</td>\n",
       "    </tr>\n",
       "    <tr>\n",
       "      <th>16</th>\n",
       "      <td>3/18/2020</td>\n",
       "      <td>18</td>\n",
       "      <td>3</td>\n",
       "      <td>2020</td>\n",
       "      <td>12</td>\n",
       "      <td>0</td>\n",
       "      <td>India</td>\n",
       "      <td>IN</td>\n",
       "      <td>29.3492</td>\n",
       "      <td>42</td>\n",
       "      <td>...</td>\n",
       "      <td>0</td>\n",
       "      <td>60.00000</td>\n",
       "      <td>804.56000</td>\n",
       "      <td>8.89154</td>\n",
       "      <td>278.61566</td>\n",
       "      <td>12.96</td>\n",
       "      <td>19.0760° N</td>\n",
       "      <td>72.8777° E</td>\n",
       "      <td>156</td>\n",
       "      <td>14</td>\n",
       "    </tr>\n",
       "    <tr>\n",
       "      <th>17</th>\n",
       "      <td>3/19/2020</td>\n",
       "      <td>19</td>\n",
       "      <td>3</td>\n",
       "      <td>2020</td>\n",
       "      <td>28</td>\n",
       "      <td>0</td>\n",
       "      <td>India</td>\n",
       "      <td>IN</td>\n",
       "      <td>23.2892</td>\n",
       "      <td>86</td>\n",
       "      <td>...</td>\n",
       "      <td>100</td>\n",
       "      <td>0.00000</td>\n",
       "      <td>0.00000</td>\n",
       "      <td>1.88373</td>\n",
       "      <td>8.13010</td>\n",
       "      <td>12.96</td>\n",
       "      <td>19.0760° N</td>\n",
       "      <td>72.8777° E</td>\n",
       "      <td>194</td>\n",
       "      <td>38</td>\n",
       "    </tr>\n",
       "  </tbody>\n",
       "</table>\n",
       "<p>18 rows × 21 columns</p>\n",
       "</div>"
      ],
      "text/plain": [
       "      DateRep  Day  Month  Year  Cases  Deaths Countries and territories  \\\n",
       "0    3/1/2020    1      3  2020      0       0                     India   \n",
       "1    3/2/2020    2      3  2020      0       0                     India   \n",
       "2    3/3/2020    3      3  2020      2       0                     India   \n",
       "3    3/4/2020    4      3  2020      1       0                     India   \n",
       "4    3/5/2020    5      3  2020     22       0                     India   \n",
       "5    3/6/2020    6      3  2020      1       0                     India   \n",
       "6    3/7/2020    7      3  2020      2       0                     India   \n",
       "7    3/8/2020    8      3  2020      3       0                     India   \n",
       "8   3/10/2020   10      3  2020     10       0                     India   \n",
       "9   3/11/2020   11      3  2020      6       0                     India   \n",
       "10  3/12/2020   12      3  2020     23       0                     India   \n",
       "11  3/13/2020   13      3  2020      2       1                     India   \n",
       "12  3/14/2020   14      3  2020      8       1                     India   \n",
       "13  3/15/2020   15      3  2020      7       0                     India   \n",
       "14  3/16/2020   16      3  2020      3       0                     India   \n",
       "15  3/17/2020   17      3  2020     32       1                     India   \n",
       "16  3/18/2020   18      3  2020     12       0                     India   \n",
       "17  3/19/2020   19      3  2020     28       0                     India   \n",
       "\n",
       "   GeoId  Temperature  RH  ...   CC  Sunshine Duration  Shortwave Radiation  \\\n",
       "0     IN      19.7092  87  ...   22           30.07660             14.24000   \n",
       "1     IN      23.0292  71  ...   10           53.61702            214.48999   \n",
       "2     IN      25.0792  62  ...   10           53.61702            386.25998   \n",
       "3     IN      27.1492  46  ...   10           53.61702            622.11000   \n",
       "4     IN      30.0292  33  ...    0           60.00000            924.70996   \n",
       "5     IN      29.3792  36  ...    0           60.00000            881.10000   \n",
       "6     IN      28.5992  37  ...    0           60.00000            774.30000   \n",
       "7     IN      27.8392  38  ...    0           60.00000            606.98000   \n",
       "8     IN      26.7492  40  ...    0           60.00000            394.27000   \n",
       "9     IN      24.7192  48  ...    0           60.00000            157.53000   \n",
       "10    IN      21.9592  62  ...    0           16.35000              3.56000   \n",
       "11    IN      28.9492  35  ...   10           53.61702            749.38000   \n",
       "12    IN      27.6692  40  ...   10           53.61702            477.03998   \n",
       "13    IN      22.6292  67  ...    1           59.36170            236.73999   \n",
       "14    IN      25.1492  61  ...    0           60.00000            459.24000   \n",
       "15    IN      27.6092  47  ...    0           60.00000            655.04000   \n",
       "16    IN      29.3492  42  ...    0           60.00000            804.56000   \n",
       "17    IN      23.2892  86  ...  100            0.00000              0.00000   \n",
       "\n",
       "    Wind Speed [10 m]  Wind Direction [10 m]  Wind Gust   Longitude  \\\n",
       "0             4.30382               68.19859       7.56  19.0760° N   \n",
       "1             6.07486               52.12500       8.64  19.0760° N   \n",
       "2             7.90719               32.61923      10.44  19.0760° N   \n",
       "3             5.33466                2.86241      12.24  19.0760° N   \n",
       "4            11.76994              264.80557      18.36  19.0760° N   \n",
       "5            14.71242              264.80557      20.16  19.0760° N   \n",
       "6            16.00397              267.13760      20.88  19.0760° N   \n",
       "7            15.71760              270.00000      21.60  19.0760° N   \n",
       "8            14.14180              273.23970      19.80  19.0760° N   \n",
       "9            11.70342              281.82150      18.36  19.0760° N   \n",
       "10            7.50189              286.50436      12.24  19.0760° N   \n",
       "11           18.11520              270.00000      21.60  19.0760° N   \n",
       "12           17.58240              270.00000      21.96  19.0760° N   \n",
       "13            0.96052               33.69006       4.68  19.0760° N   \n",
       "14            4.16130              320.19446       8.28  19.0760° N   \n",
       "15            5.60074              295.34620       9.36  19.0760° N   \n",
       "16            8.89154              278.61566      12.96  19.0760° N   \n",
       "17            1.88373                8.13010      12.96  19.0760° N   \n",
       "\n",
       "      Latitude Confirmed  Ccases  \n",
       "0   72.8777° E         3       3  \n",
       "1   72.8777° E         5       2  \n",
       "2   72.8777° E         5       0  \n",
       "3   72.8777° E        28      23  \n",
       "4   72.8777° E        30       2  \n",
       "5   72.8777° E        31       1  \n",
       "6   72.8777° E        34       3  \n",
       "7   72.8777° E        39       5  \n",
       "8   72.8777° E        43       4  \n",
       "9   72.8777° E        56      13  \n",
       "10  72.8777° E        62       6  \n",
       "11  72.8777° E        73      11  \n",
       "12  72.8777° E        82       9  \n",
       "13  72.8777° E       102      20  \n",
       "14  72.8777° E       119      17  \n",
       "15  72.8777° E       142      23  \n",
       "16  72.8777° E       156      14  \n",
       "17  72.8777° E       194      38  \n",
       "\n",
       "[18 rows x 21 columns]"
      ]
     },
     "execution_count": 74,
     "metadata": {},
     "output_type": "execute_result"
    }
   ],
   "source": [
    "df=pd.read_csv(\"StatsIn.csv\")\n",
    "df"
   ]
  },
  {
   "cell_type": "code",
   "execution_count": 75,
   "metadata": {},
   "outputs": [
    {
     "data": {
      "image/png": "[encoded data removed]",
      "text/plain": [
       "<Figure size 1080x504 with 1 Axes>"
      ]
     },
     "metadata": {},
     "output_type": "display_data"
    }
   ],
   "source": [
    "\n",
    "\n",
    "fig, ax = plt.subplots(figsize=(15,7))\n",
    "ax.plot(df['Day'], df['Confirmed'],color='red', marker='o', linestyle='dashed',linewidth=2, markersize=12,label=\"Number of Confirmed Cases\")#\n",
    "\n",
    "plt.xticks(np.arange(1,20,1))\n",
    "#plt.yticks([0,500,1000,1500,2000,2500])\n",
    "\n",
    "ax.set_xlabel('Days',fontsize=20)\n",
    "ax.set_ylabel('Number of Confirmed Cases',fontsize=17)\n",
    "ax.set_title(\"Visualization of confirmed cases\",fontsize=20)\n",
    "ax = plt.gca()\n",
    "ax.legend(prop={'size': 20})\n",
    "ax.tick_params(axis = 'both', which = 'major', labelsize = 15)  "
   ]
  },
  {
   "cell_type": "code",
   "execution_count": 76,
   "metadata": {},
   "outputs": [],
   "source": [
    "feature_names_df = ['Day','Month','Year','Temperature','RH','Precipitation','CC','Sunshine Duration','Shortwave Radiation','Wind Speed [10 m]','Wind Direction [10 m]','Wind Gust']\n",
    "\n",
    "x_df = df[feature_names_df]\n",
    "y_df = df['Ccases']"
   ]
  },
  {
   "cell_type": "code",
   "execution_count": 77,
   "metadata": {},
   "outputs": [],
   "source": [
    "from sklearn.model_selection import train_test_split\n",
    "\n",
    "\n",
    "X_train, X_test, y_train, y_test = train_test_split(x_df, y_df, test_size=0.1,random_state=0)"
   ]
  },
  {
   "cell_type": "code",
   "execution_count": 78,
   "metadata": {},
   "outputs": [
    {
     "name": "stderr",
     "output_type": "stream",
     "text": [
      "c:\\users\\dell\\appdata\\local\\programs\\python\\python37\\lib\\site-packages\\sklearn\\linear_model\\logistic.py:432: FutureWarning: Default solver will be changed to 'lbfgs' in 0.22. Specify a solver to silence this warning.\n",
      "  FutureWarning)\n",
      "c:\\users\\dell\\appdata\\local\\programs\\python\\python37\\lib\\site-packages\\sklearn\\linear_model\\logistic.py:469: FutureWarning: Default multi_class will be changed to 'auto' in 0.22. Specify the multi_class option to silence this warning.\n",
      "  \"this warning.\", FutureWarning)\n"
     ]
    },
    {
     "data": {
      "text/plain": [
       "LogisticRegression(C=1.0, class_weight=None, dual=False, fit_intercept=True,\n",
       "                   intercept_scaling=1, l1_ratio=None, max_iter=100,\n",
       "                   multi_class='warn', n_jobs=None, penalty='l2',\n",
       "                   random_state=None, solver='warn', tol=0.0001, verbose=0,\n",
       "                   warm_start=False)"
      ]
     },
     "execution_count": 78,
     "metadata": {},
     "output_type": "execute_result"
    }
   ],
   "source": [
    "from sklearn.linear_model import LogisticRegression\n",
    "\n",
    "model = LogisticRegression()\n",
    "model.fit(X_train,y_train)"
   ]
  },
  {
   "cell_type": "code",
   "execution_count": 79,
   "metadata": {},
   "outputs": [
    {
     "name": "stdout",
     "output_type": "stream",
     "text": [
      "AUC:  0.5\n"
     ]
    }
   ],
   "source": [
    "from sklearn.metrics import roc_auc_score\n",
    "from sklearn import preprocessing\n",
    "\n",
    "def multiclass_roc_auc_score(y_test, y_pred, average=\"macro\"):\n",
    "    lb = preprocessing.LabelBinarizer()\n",
    "    lb.fit(y_test)\n",
    "    y_test = lb.transform(y_test)\n",
    "    y_pred = lb.transform(y_pred)\n",
    "    return roc_auc_score(y_test, y_pred, average=average)\n",
    "\n",
    "# Predict the transformed test documents\n",
    "predictions = model.predict((X_test))\n",
    "\n",
    "print('AUC: ', multiclass_roc_auc_score(y_test, predictions))"
   ]
  },
  {
   "cell_type": "code",
   "execution_count": 42,
   "metadata": {},
   "outputs": [
    {
     "name": "stdout",
     "output_type": "stream",
     "text": [
      "[13]\n"
     ]
    }
   ],
   "source": [
    "print(model.predict([[11,3,2020,24.7192,48,0,0,60,157.53,11.70342,281.8215,18.36]]))"
   ]
  },
  {
   "cell_type": "markdown",
   "metadata": {},
   "source": [
    "# Predict for next 10 days"
   ]
  },
  {
   "cell_type": "code",
   "execution_count": 49,
   "metadata": {},
   "outputs": [
    {
     "name": "stdout",
     "output_type": "stream",
     "text": [
      "[11]\n"
     ]
    }
   ],
   "source": [
    "t1=model.predict([[20,3,2020,30.4083,47,0,56,24.25532,889.11,14.584031,279.46234,20.519999]])\n",
    "print(model.predict([[20,3,2020,30.4083,47,0,56,24.25532,889.11,14.584031,279.46234,20.519999]]))"
   ]
  },
  {
   "cell_type": "code",
   "execution_count": 50,
   "metadata": {},
   "outputs": [
    {
     "name": "stdout",
     "output_type": "stream",
     "text": [
      "[14]\n"
     ]
    }
   ],
   "source": [
    "t2=model.predict([[21,3,2020,30.4683,46,0,8,54.893616,886.44,15.335942,287.1759,20.519999]])\n",
    "print(model.predict([[21,3,2020,30.4683,46,0,8,54.893616,886.44,15.335942,287.1759,20.519999]]))\n",
    "\n",
    "\n"
   ]
  },
  {
   "cell_type": "code",
   "execution_count": 63,
   "metadata": {},
   "outputs": [
    {
     "name": "stdout",
     "output_type": "stream",
     "text": [
      "3\n",
      "5\n",
      "5\n",
      "28\n",
      "30\n",
      "31\n",
      "34\n",
      "39\n",
      "43\n",
      "56\n",
      "62\n",
      "73\n",
      "82\n",
      "102\n",
      "119\n",
      "142\n",
      "156\n",
      "194\n"
     ]
    }
   ],
   "source": [
    "C=[]\n",
    "for i in df['Confirmed']:\n",
    "    C.append(i)\n",
    "    print (i)"
   ]
  },
  {
   "cell_type": "code",
   "execution_count": 64,
   "metadata": {},
   "outputs": [],
   "source": [
    "C.append(C[-1]+t1)\n",
    "C.append(C[-1]+t2)"
   ]
  },
  {
   "cell_type": "code",
   "execution_count": 65,
   "metadata": {},
   "outputs": [
    {
     "data": {
      "text/plain": [
       "20"
      ]
     },
     "execution_count": 65,
     "metadata": {},
     "output_type": "execute_result"
    }
   ],
   "source": [
    "len(C)"
   ]
  },
  {
   "cell_type": "code",
   "execution_count": 66,
   "metadata": {},
   "outputs": [
    {
     "data": {
      "image/png": "[encoded data removed]",
      "text/plain": [
       "<Figure size 1080x504 with 1 Axes>"
      ]
     },
     "metadata": {},
     "output_type": "display_data"
    }
   ],
   "source": [
    "\n",
    "\n",
    "fig, ax = plt.subplots(figsize=(15,7))\n",
    "ax.plot(np.arange(1,21,1),C,color='red', marker='o', linestyle='dashed',linewidth=2, markersize=12,label=\"Number of Confirmed Cases\")#\n",
    "\n",
    "plt.xticks(np.arange(1,21,1))\n",
    "#plt.yticks([0,500,1000,1500,2000,2500])\n",
    "\n",
    "ax.set_xlabel('Days',fontsize=20)\n",
    "ax.set_ylabel('Number of Confirmed Cases',fontsize=17)\n",
    "ax.set_title(\"Visualization of confirmed cases\",fontsize=20)\n",
    "ax = plt.gca()\n",
    "ax.legend(prop={'size': 20})\n",
    "ax.tick_params(axis = 'both', which = 'major', labelsize = 15)  "
   ]
  },
  {
   "cell_type": "code",
   "execution_count": 67,
   "metadata": {},
   "outputs": [
    {
     "data": {
      "text/plain": [
       "[3,\n",
       " 5,\n",
       " 5,\n",
       " 28,\n",
       " 30,\n",
       " 31,\n",
       " 34,\n",
       " 39,\n",
       " 43,\n",
       " 56,\n",
       " 62,\n",
       " 73,\n",
       " 82,\n",
       " 102,\n",
       " 119,\n",
       " 142,\n",
       " 156,\n",
       " 194,\n",
       " array([205], dtype=int64),\n",
       " array([219], dtype=int64)]"
      ]
     },
     "execution_count": 67,
     "metadata": {},
     "output_type": "execute_result"
    }
   ],
   "source": [
    "C"
   ]
  },
  {
   "cell_type": "markdown",
   "metadata": {},
   "source": [
    "# Most prominent factors for Covid19's spread"
   ]
  },
  {
   "cell_type": "code",
   "execution_count": 72,
   "metadata": {},
   "outputs": [
    {
     "name": "stderr",
     "output_type": "stream",
     "text": [
      "c:\\users\\dell\\appdata\\local\\programs\\python\\python37\\lib\\site-packages\\sklearn\\ensemble\\forest.py:245: FutureWarning: The default value of n_estimators will change from 10 in version 0.20 to 100 in 0.22.\n",
      "  \"10 in version 0.20 to 100 in 0.22.\", FutureWarning)\n"
     ]
    },
    {
     "data": {
      "image/png": "[encoded data removed]",
      "text/plain": [
       "<Figure size 1080x504 with 1 Axes>"
      ]
     },
     "metadata": {},
     "output_type": "display_data"
    }
   ],
   "source": [
    "import pandas as pd\n",
    "import numpy as np\n",
    "data = pd.read_csv(\"StatsIn.csv\")\n",
    "X = data.iloc[:,8:17]  #independent columns\n",
    "y = data.iloc[:,-1]    #target column i.e price range\n",
    "from sklearn.ensemble import ExtraTreesClassifier\n",
    "import matplotlib.pyplot as plt\n",
    "model = ExtraTreesClassifier()\n",
    "model.fit(X,y)\n",
    "#print(model.feature_importances_) #use inbuilt class feature_importances of tree based classifiers\n",
    "#plot graph of feature importances for better visualization\n",
    "fig, ax = plt.subplots(figsize=(15,7))\n",
    "feat_importances = pd.Series(model.feature_importances_, index=X.columns)\n",
    "feat_importances.nlargest(10).plot(kind='barh')\n",
    "plt.show()"
   ]
  },
  {
   "cell_type": "code",
   "execution_count": 86,
   "metadata": {},
   "outputs": [],
   "source": [
    "import pickle\n",
    "\n",
    "filename = 'case_predictor_model.sav'\n",
    "pickle.dump(model, open(filename, 'wb'))"
   ]
  },
  {
   "cell_type": "code",
   "execution_count": 87,
   "metadata": {},
   "outputs": [
    {
     "name": "stderr",
     "output_type": "stream",
     "text": [
      "c:\\users\\dell\\appdata\\local\\programs\\python\\python37\\lib\\site-packages\\sklearn\\externals\\joblib\\__init__.py:15: DeprecationWarning: sklearn.externals.joblib is deprecated in 0.21 and will be removed in 0.23. Please import this functionality directly from joblib, which can be installed with: pip install joblib. If this warning is raised when loading pickled models, you may need to re-serialize those models with scikit-learn 0.21+.\n",
      "  warnings.warn(msg, category=DeprecationWarning)\n"
     ]
    },
    {
     "data": {
      "text/plain": [
       "9"
      ]
     },
     "execution_count": 87,
     "metadata": {},
     "output_type": "execute_result"
    }
   ],
   "source": [
    "from sklearn.externals import joblib\n",
    "\n",
    "\n",
    "loaded_model = joblib.load(filename)\n",
    "result = loaded_model.predict([[22,3,2020,30.4683,46,0,8,10,88,15.335942,287.1759,20.519999]])\n",
    "result[0]"
   ]
  },
  {
   "cell_type": "code",
   "execution_count": 85,
   "metadata": {},
   "outputs": [
    {
     "name": "stdout",
     "output_type": "stream",
     "text": [
      "[9]\n"
     ]
    }
   ],
   "source": []
  },
  {
   "cell_type": "code",
   "execution_count": null,
   "metadata": {},
   "outputs": [],
   "source": []
  }
 ],
 "metadata": {
  "kernelspec": {
   "display_name": "Python 3",
   "language": "python",
   "name": "python3"
  },
  "language_info": {
   "codemirror_mode": {
    "name": "ipython",
    "version": 3
   },
   "file_extension": ".py",
   "mimetype": "text/x-python",
   "name": "python",
   "nbconvert_exporter": "python",
   "pygments_lexer": "ipython3",
   "version": "3.7.6"
  }
 },
 "nbformat": 4,
 "nbformat_minor": 2
}
